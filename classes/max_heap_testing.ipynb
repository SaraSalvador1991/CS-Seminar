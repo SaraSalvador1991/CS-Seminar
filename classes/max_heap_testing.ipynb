{
 "cells": [
  {
   "cell_type": "code",
   "execution_count": 1,
   "id": "8f36e9b5-8a84-4f7a-a0b8-89387808c022",
   "metadata": {},
   "outputs": [],
   "source": [
    "from max_heap import MaxHeap"
   ]
  },
  {
   "cell_type": "code",
   "execution_count": 2,
   "id": "433d09cc-8def-44fd-9dac-ced0341a7193",
   "metadata": {},
   "outputs": [],
   "source": [
    "mh1 = MaxHeap()"
   ]
  },
  {
   "cell_type": "code",
   "execution_count": 3,
   "id": "2cff3b8f-055e-47ce-b761-97aa2fa69c96",
   "metadata": {},
   "outputs": [
    {
     "data": {
      "text/plain": [
       "0"
      ]
     },
     "execution_count": 3,
     "metadata": {},
     "output_type": "execute_result"
    }
   ],
   "source": [
    "mh1.get_size()"
   ]
  },
  {
   "cell_type": "code",
   "execution_count": 4,
   "id": "e2958731-87dd-4796-b6c9-bd14a8333445",
   "metadata": {},
   "outputs": [
    {
     "data": {
      "text/plain": [
       "[]"
      ]
     },
     "execution_count": 4,
     "metadata": {},
     "output_type": "execute_result"
    }
   ],
   "source": [
    "mh1.get_heap()"
   ]
  },
  {
   "cell_type": "code",
   "execution_count": 5,
   "id": "6d647fb9-c3f3-4666-b88b-09bc21ee403c",
   "metadata": {},
   "outputs": [
    {
     "ename": "IndexError",
     "evalue": "Max-Heap is empty.",
     "output_type": "error",
     "traceback": [
      "\u001b[1;31m---------------------------------------------------------------------------\u001b[0m",
      "\u001b[1;31mIndexError\u001b[0m                                Traceback (most recent call last)",
      "Cell \u001b[1;32mIn[5], line 1\u001b[0m\n\u001b[1;32m----> 1\u001b[0m \u001b[43mmh1\u001b[49m\u001b[38;5;241;43m.\u001b[39;49m\u001b[43mget_max\u001b[49m\u001b[43m(\u001b[49m\u001b[43m)\u001b[49m\n",
      "File \u001b[1;32mD:\\devSODA\\CS_Seminar\\CS-Seminars\\classes\\max_heap.py:61\u001b[0m, in \u001b[0;36mMaxHeap.get_max\u001b[1;34m(self)\u001b[0m\n\u001b[0;32m     54\u001b[0m \u001b[38;5;250m\u001b[39m\u001b[38;5;124;03m\"\"\"\u001b[39;00m\n\u001b[0;32m     55\u001b[0m \u001b[38;5;124;03mReturns the maximum element of the Max-Heap.\u001b[39;00m\n\u001b[0;32m     56\u001b[0m \n\u001b[0;32m     57\u001b[0m \u001b[38;5;124;03m:return: The maximum element of the Max-Heap, or None if the Max-Heap is empty.\u001b[39;00m\n\u001b[0;32m     58\u001b[0m \u001b[38;5;124;03m:raises IndexError: If the Max-Heap is empty.\u001b[39;00m\n\u001b[0;32m     59\u001b[0m \u001b[38;5;124;03m\"\"\"\u001b[39;00m\n\u001b[0;32m     60\u001b[0m \u001b[38;5;28;01mif\u001b[39;00m \u001b[38;5;28mself\u001b[39m\u001b[38;5;241m.\u001b[39mget_size() \u001b[38;5;241m==\u001b[39m \u001b[38;5;241m0\u001b[39m:\n\u001b[1;32m---> 61\u001b[0m     \u001b[38;5;28;01mraise\u001b[39;00m \u001b[38;5;167;01mIndexError\u001b[39;00m(\u001b[38;5;124m\"\u001b[39m\u001b[38;5;124mMax-Heap is empty.\u001b[39m\u001b[38;5;124m\"\u001b[39m)\n\u001b[0;32m     62\u001b[0m \u001b[38;5;28;01mreturn\u001b[39;00m \u001b[38;5;28mself\u001b[39m\u001b[38;5;241m.\u001b[39mget_heap()[\u001b[38;5;241m0\u001b[39m]\n",
      "\u001b[1;31mIndexError\u001b[0m: Max-Heap is empty."
     ]
    }
   ],
   "source": [
    "mh1.get_max()"
   ]
  },
  {
   "cell_type": "code",
   "execution_count": null,
   "id": "a7ee4a1c-f084-431e-a388-fcb1fee35c4f",
   "metadata": {},
   "outputs": [],
   "source": []
  }
 ],
 "metadata": {
  "kernelspec": {
   "display_name": "Python 3 (ipykernel)",
   "language": "python",
   "name": "python3"
  },
  "language_info": {
   "codemirror_mode": {
    "name": "ipython",
    "version": 3
   },
   "file_extension": ".py",
   "mimetype": "text/x-python",
   "name": "python",
   "nbconvert_exporter": "python",
   "pygments_lexer": "ipython3",
   "version": "3.10.11"
  }
 },
 "nbformat": 4,
 "nbformat_minor": 5
}
