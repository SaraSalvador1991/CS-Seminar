{
 "cells": [
  {
   "cell_type": "code",
   "execution_count": 385,
   "id": "bb994aa2",
   "metadata": {},
   "outputs": [
    {
     "name": "stdout",
     "output_type": "stream",
     "text": [
      "The autoreload extension is already loaded. To reload it, use:\n",
      "  %reload_ext autoreload\n"
     ]
    }
   ],
   "source": [
    "%load_ext autoreload"
   ]
  },
  {
   "cell_type": "code",
   "execution_count": 386,
   "id": "66bb2ae1",
   "metadata": {},
   "outputs": [],
   "source": [
    "%autoreload 2"
   ]
  },
  {
   "cell_type": "code",
   "execution_count": 387,
   "id": "6fcd076c",
   "metadata": {},
   "outputs": [],
   "source": [
    "from max_heap import MaxHeap"
   ]
  },
  {
   "cell_type": "markdown",
   "id": "c05fc1ce",
   "metadata": {},
   "source": [
    "# Insert"
   ]
  },
  {
   "cell_type": "code",
   "execution_count": 388,
   "id": "433d09cc-8def-44fd-9dac-ced0341a7193",
   "metadata": {},
   "outputs": [],
   "source": [
    "mh1 = MaxHeap()"
   ]
  },
  {
   "cell_type": "code",
   "execution_count": 389,
   "id": "2cff3b8f-055e-47ce-b761-97aa2fa69c96",
   "metadata": {},
   "outputs": [
    {
     "data": {
      "text/plain": [
       "0"
      ]
     },
     "execution_count": 389,
     "metadata": {},
     "output_type": "execute_result"
    }
   ],
   "source": [
    "mh1.get_size()"
   ]
  },
  {
   "cell_type": "code",
   "execution_count": 390,
   "id": "e2958731-87dd-4796-b6c9-bd14a8333445",
   "metadata": {},
   "outputs": [
    {
     "data": {
      "text/plain": [
       "[]"
      ]
     },
     "execution_count": 390,
     "metadata": {},
     "output_type": "execute_result"
    }
   ],
   "source": [
    "mh1.get_heap()"
   ]
  },
  {
   "cell_type": "code",
   "execution_count": 391,
   "id": "6d647fb9-c3f3-4666-b88b-09bc21ee403c",
   "metadata": {},
   "outputs": [],
   "source": [
    "# mh1.get_max()"
   ]
  },
  {
   "cell_type": "code",
   "execution_count": 392,
   "id": "a7ee4a1c-f084-431e-a388-fcb1fee35c4f",
   "metadata": {},
   "outputs": [
    {
     "data": {
      "text/plain": [
       "[50]"
      ]
     },
     "execution_count": 392,
     "metadata": {},
     "output_type": "execute_result"
    }
   ],
   "source": [
    "mh1.insert(50)\n",
    "mh1.get_heap()"
   ]
  },
  {
   "cell_type": "code",
   "execution_count": 393,
   "id": "1f7876c0",
   "metadata": {},
   "outputs": [
    {
     "data": {
      "text/plain": [
       "1"
      ]
     },
     "execution_count": 393,
     "metadata": {},
     "output_type": "execute_result"
    }
   ],
   "source": [
    "mh1.get_size()"
   ]
  },
  {
   "cell_type": "code",
   "execution_count": 394,
   "id": "04afec55",
   "metadata": {},
   "outputs": [
    {
     "data": {
      "text/plain": [
       "50"
      ]
     },
     "execution_count": 394,
     "metadata": {},
     "output_type": "execute_result"
    }
   ],
   "source": [
    "mh1.get_max()"
   ]
  },
  {
   "cell_type": "code",
   "execution_count": 395,
   "id": "7d310d09",
   "metadata": {},
   "outputs": [
    {
     "data": {
      "text/plain": [
       "[50, 10]"
      ]
     },
     "execution_count": 395,
     "metadata": {},
     "output_type": "execute_result"
    }
   ],
   "source": [
    "mh1.insert(10)\n",
    "mh1.get_heap()"
   ]
  },
  {
   "cell_type": "code",
   "execution_count": 396,
   "id": "d2c83e21",
   "metadata": {},
   "outputs": [
    {
     "data": {
      "text/plain": [
       "[50, 10, 40, 5, 8, 30, 20]"
      ]
     },
     "execution_count": 396,
     "metadata": {},
     "output_type": "execute_result"
    }
   ],
   "source": [
    "mh1.insert(40)\n",
    "mh1.insert(5)\n",
    "mh1.insert(8)\n",
    "mh1.insert(30)\n",
    "mh1.insert(20)\n",
    "mh1.get_heap()"
   ]
  },
  {
   "cell_type": "code",
   "execution_count": 397,
   "id": "8a477168",
   "metadata": {},
   "outputs": [
    {
     "data": {
      "text/plain": [
       "[50, 15, 40, 10, 8, 30, 20, 5]"
      ]
     },
     "execution_count": 397,
     "metadata": {},
     "output_type": "execute_result"
    }
   ],
   "source": [
    "mh1.insert(15)\n",
    "mh1.get_heap()"
   ]
  },
  {
   "cell_type": "code",
   "execution_count": 398,
   "id": "0e9e4935",
   "metadata": {},
   "outputs": [
    {
     "data": {
      "text/plain": [
       "[60, 50, 40, 15, 8, 30, 20, 5, 10]"
      ]
     },
     "execution_count": 398,
     "metadata": {},
     "output_type": "execute_result"
    }
   ],
   "source": [
    "mh1.insert(60)\n",
    "mh1.get_heap()"
   ]
  },
  {
   "cell_type": "code",
   "execution_count": 399,
   "id": "341f3367",
   "metadata": {},
   "outputs": [
    {
     "data": {
      "text/plain": [
       "60"
      ]
     },
     "execution_count": 399,
     "metadata": {},
     "output_type": "execute_result"
    }
   ],
   "source": [
    "mh1.get_max()"
   ]
  },
  {
   "cell_type": "code",
   "execution_count": 400,
   "id": "fbb5c05e",
   "metadata": {},
   "outputs": [
    {
     "data": {
      "text/plain": [
       "[60, 50, 40, 15, 8, 30, 20, 5, 10, 8]"
      ]
     },
     "execution_count": 400,
     "metadata": {},
     "output_type": "execute_result"
    }
   ],
   "source": [
    "mh1.insert(8)\n",
    "mh1.get_heap()"
   ]
  },
  {
   "cell_type": "code",
   "execution_count": 401,
   "id": "e8dd172b",
   "metadata": {},
   "outputs": [
    {
     "data": {
      "text/plain": [
       "[60, 50, 40, 15, 50, 30, 20, 5, 10, 8, 8]"
      ]
     },
     "execution_count": 401,
     "metadata": {},
     "output_type": "execute_result"
    }
   ],
   "source": [
    "mh1.insert(50)\n",
    "mh1.get_heap()"
   ]
  },
  {
   "cell_type": "code",
   "execution_count": 402,
   "id": "67c41f2a",
   "metadata": {},
   "outputs": [
    {
     "data": {
      "text/plain": [
       "11"
      ]
     },
     "execution_count": 402,
     "metadata": {},
     "output_type": "execute_result"
    }
   ],
   "source": [
    "mh1.get_size()"
   ]
  },
  {
   "cell_type": "code",
   "execution_count": null,
   "id": "b74d5cf0",
   "metadata": {},
   "outputs": [],
   "source": []
  },
  {
   "cell_type": "code",
   "execution_count": null,
   "id": "c92bcb8c",
   "metadata": {},
   "outputs": [],
   "source": []
  },
  {
   "cell_type": "markdown",
   "id": "80b669b4",
   "metadata": {},
   "source": [
    "# Remove"
   ]
  },
  {
   "cell_type": "code",
   "execution_count": 403,
   "id": "0c56488d",
   "metadata": {},
   "outputs": [],
   "source": [
    "mh2 = MaxHeap()"
   ]
  },
  {
   "cell_type": "code",
   "execution_count": 404,
   "id": "2047359b",
   "metadata": {},
   "outputs": [
    {
     "data": {
      "text/plain": [
       "[60, 50, 40, 15, 50, 30, 20, 5, 10, 8, 6]"
      ]
     },
     "execution_count": 404,
     "metadata": {},
     "output_type": "execute_result"
    }
   ],
   "source": [
    "mh2.insert(60)\n",
    "mh2.insert(50)\n",
    "mh2.insert(40)\n",
    "mh2.insert(15)\n",
    "mh2.insert(50)\n",
    "mh2.insert(30)\n",
    "mh2.insert(20)\n",
    "mh2.insert(5)\n",
    "mh2.insert(10)\n",
    "mh2.insert(8)\n",
    "mh2.insert(6)\n",
    "mh2.get_heap()"
   ]
  },
  {
   "cell_type": "code",
   "execution_count": 405,
   "id": "6650e6f8",
   "metadata": {},
   "outputs": [
    {
     "data": {
      "text/plain": [
       "[60, 50, 40, 15, 50, 30, 20, 5, 10, 8]"
      ]
     },
     "execution_count": 405,
     "metadata": {},
     "output_type": "execute_result"
    }
   ],
   "source": [
    "# remove '6'\n",
    "mh2.remove(10)\n",
    "mh2.get_heap()"
   ]
  },
  {
   "cell_type": "code",
   "execution_count": 406,
   "id": "a48b5215",
   "metadata": {},
   "outputs": [
    {
     "data": {
      "text/plain": [
       "[60, 50, 40, 15, 8, 30, 20, 5, 10]"
      ]
     },
     "execution_count": 406,
     "metadata": {},
     "output_type": "execute_result"
    }
   ],
   "source": [
    "# remove second '50'\n",
    "mh2.remove(4)\n",
    "mh2.get_heap()"
   ]
  },
  {
   "cell_type": "code",
   "execution_count": 407,
   "id": "3d48823b",
   "metadata": {},
   "outputs": [
    {
     "data": {
      "text/plain": [
       "[60, 50, 40, 10, 8, 30, 20, 5]"
      ]
     },
     "execution_count": 407,
     "metadata": {},
     "output_type": "execute_result"
    }
   ],
   "source": [
    "# remove '15'\n",
    "mh2.remove(3)\n",
    "mh2.get_heap()"
   ]
  },
  {
   "cell_type": "code",
   "execution_count": 408,
   "id": "30d3cfdf",
   "metadata": {},
   "outputs": [
    {
     "data": {
      "text/plain": [
       "[60, 10, 40, 5, 8, 30, 20]"
      ]
     },
     "execution_count": 408,
     "metadata": {},
     "output_type": "execute_result"
    }
   ],
   "source": [
    "# remove (first) '50'\n",
    "mh2.remove(1)\n",
    "mh2.get_heap()"
   ]
  },
  {
   "cell_type": "code",
   "execution_count": 409,
   "id": "e8f15b87",
   "metadata": {},
   "outputs": [
    {
     "data": {
      "text/plain": [
       "[40, 10, 30, 5, 8, 20]"
      ]
     },
     "execution_count": 409,
     "metadata": {},
     "output_type": "execute_result"
    }
   ],
   "source": [
    "# remove '60'\n",
    "mh2.remove(0)\n",
    "mh2.get_heap()"
   ]
  },
  {
   "cell_type": "code",
   "execution_count": 410,
   "id": "21369254",
   "metadata": {},
   "outputs": [
    {
     "data": {
      "text/plain": [
       "[40, 20, 30, 5, 10]"
      ]
     },
     "execution_count": 410,
     "metadata": {},
     "output_type": "execute_result"
    }
   ],
   "source": [
    "# remove '8'\n",
    "mh2.remove(4)\n",
    "mh2.get_heap()"
   ]
  },
  {
   "cell_type": "code",
   "execution_count": 411,
   "id": "b0df98e3",
   "metadata": {},
   "outputs": [
    {
     "data": {
      "text/plain": [
       "5"
      ]
     },
     "execution_count": 411,
     "metadata": {},
     "output_type": "execute_result"
    }
   ],
   "source": [
    "mh2.get_size()"
   ]
  },
  {
   "cell_type": "markdown",
   "id": "1c15ce89",
   "metadata": {},
   "source": [
    "# Pop"
   ]
  },
  {
   "cell_type": "code",
   "execution_count": 412,
   "id": "893df6c6",
   "metadata": {},
   "outputs": [
    {
     "data": {
      "text/plain": [
       "[]"
      ]
     },
     "execution_count": 412,
     "metadata": {},
     "output_type": "execute_result"
    }
   ],
   "source": [
    "mh2.clear()\n",
    "mh2.get_heap()"
   ]
  },
  {
   "cell_type": "code",
   "execution_count": 413,
   "id": "b66c157a",
   "metadata": {},
   "outputs": [
    {
     "data": {
      "text/plain": [
       "0"
      ]
     },
     "execution_count": 413,
     "metadata": {},
     "output_type": "execute_result"
    }
   ],
   "source": [
    "mh2.get_size()"
   ]
  },
  {
   "cell_type": "code",
   "execution_count": 414,
   "id": "3995152e",
   "metadata": {},
   "outputs": [
    {
     "data": {
      "text/plain": [
       "[60, 50, 40, 15, 50, 30, 20, 5, 10, 8, 6]"
      ]
     },
     "execution_count": 414,
     "metadata": {},
     "output_type": "execute_result"
    }
   ],
   "source": [
    "mh2.insert(60)\n",
    "mh2.insert(50)\n",
    "mh2.insert(40)\n",
    "mh2.insert(15)\n",
    "mh2.insert(50)\n",
    "mh2.insert(30)\n",
    "mh2.insert(20)\n",
    "mh2.insert(5)\n",
    "mh2.insert(10)\n",
    "mh2.insert(8)\n",
    "mh2.insert(6)\n",
    "mh2.get_heap()"
   ]
  },
  {
   "cell_type": "code",
   "execution_count": 415,
   "id": "544c952e",
   "metadata": {},
   "outputs": [
    {
     "data": {
      "text/plain": [
       "50"
      ]
     },
     "execution_count": 415,
     "metadata": {},
     "output_type": "execute_result"
    }
   ],
   "source": [
    "# pop '50'\n",
    "key = mh2.pop(1)\n",
    "key"
   ]
  },
  {
   "cell_type": "code",
   "execution_count": 416,
   "id": "54f5dc19",
   "metadata": {},
   "outputs": [
    {
     "data": {
      "text/plain": [
       "[60, 50, 40, 15, 8, 30, 20, 5, 10, 6]"
      ]
     },
     "execution_count": 416,
     "metadata": {},
     "output_type": "execute_result"
    }
   ],
   "source": [
    "mh2.get_heap()"
   ]
  },
  {
   "cell_type": "code",
   "execution_count": 417,
   "id": "bdb03c9b",
   "metadata": {},
   "outputs": [
    {
     "data": {
      "text/plain": [
       "10"
      ]
     },
     "execution_count": 417,
     "metadata": {},
     "output_type": "execute_result"
    }
   ],
   "source": [
    "mh2.get_size()"
   ]
  },
  {
   "cell_type": "code",
   "execution_count": 418,
   "id": "32489421",
   "metadata": {},
   "outputs": [
    {
     "data": {
      "text/plain": [
       "60"
      ]
     },
     "execution_count": 418,
     "metadata": {},
     "output_type": "execute_result"
    }
   ],
   "source": [
    "mh2.get_max()"
   ]
  },
  {
   "cell_type": "code",
   "execution_count": null,
   "id": "781fb325",
   "metadata": {},
   "outputs": [],
   "source": []
  },
  {
   "cell_type": "markdown",
   "id": "49c2aa61",
   "metadata": {},
   "source": [
    "# Check Index"
   ]
  },
  {
   "cell_type": "code",
   "execution_count": 419,
   "id": "19c4f52c",
   "metadata": {},
   "outputs": [],
   "source": [
    "mh3 = MaxHeap()"
   ]
  },
  {
   "cell_type": "code",
   "execution_count": 420,
   "id": "5cee587f",
   "metadata": {},
   "outputs": [
    {
     "data": {
      "text/plain": [
       "[60, 50, 40, 15, 50, 30, 20, 5, 10, 8, 6]"
      ]
     },
     "execution_count": 420,
     "metadata": {},
     "output_type": "execute_result"
    }
   ],
   "source": [
    "mh3.insert(60)\n",
    "mh3.insert(50)\n",
    "mh3.insert(40)\n",
    "mh3.insert(15)\n",
    "mh3.insert(50)\n",
    "mh3.insert(30)\n",
    "mh3.insert(20)\n",
    "mh3.insert(5)\n",
    "mh3.insert(10)\n",
    "mh3.insert(8)\n",
    "mh3.insert(6)\n",
    "mh3.get_heap()"
   ]
  },
  {
   "cell_type": "code",
   "execution_count": 421,
   "id": "bc31404f",
   "metadata": {},
   "outputs": [],
   "source": [
    "# mh3.remove(15)"
   ]
  },
  {
   "cell_type": "code",
   "execution_count": 422,
   "id": "6c22bc3d",
   "metadata": {},
   "outputs": [],
   "source": [
    "# mh3.remove(-15)"
   ]
  },
  {
   "cell_type": "code",
   "execution_count": 423,
   "id": "8e16c192",
   "metadata": {},
   "outputs": [],
   "source": [
    "# mh3.pop(-1)"
   ]
  },
  {
   "cell_type": "code",
   "execution_count": null,
   "id": "d3460cee",
   "metadata": {},
   "outputs": [],
   "source": []
  },
  {
   "cell_type": "markdown",
   "id": "064ff9a8",
   "metadata": {},
   "source": [
    "# Find All"
   ]
  },
  {
   "cell_type": "code",
   "execution_count": 426,
   "id": "2787fc3c",
   "metadata": {},
   "outputs": [
    {
     "data": {
      "text/plain": [
       "[1, 4]"
      ]
     },
     "execution_count": 426,
     "metadata": {},
     "output_type": "execute_result"
    }
   ],
   "source": [
    "indices = mh3.find_all(50)\n",
    "indices"
   ]
  },
  {
   "cell_type": "code",
   "execution_count": 427,
   "id": "4849b1d3",
   "metadata": {},
   "outputs": [
    {
     "data": {
      "text/plain": [
       "50"
      ]
     },
     "execution_count": 427,
     "metadata": {},
     "output_type": "execute_result"
    }
   ],
   "source": [
    "key1 = mh3.pop(indices[0])\n",
    "key1"
   ]
  },
  {
   "cell_type": "code",
   "execution_count": 428,
   "id": "af588bd2",
   "metadata": {},
   "outputs": [
    {
     "data": {
      "text/plain": [
       "50"
      ]
     },
     "execution_count": 428,
     "metadata": {},
     "output_type": "execute_result"
    }
   ],
   "source": [
    "key2 = mh3.pop(mh3.find_all(50)[0])\n",
    "key2"
   ]
  },
  {
   "cell_type": "code",
   "execution_count": 429,
   "id": "f0d7cadf",
   "metadata": {},
   "outputs": [
    {
     "data": {
      "text/plain": [
       "[60, 15, 40, 10, 8, 30, 20, 5, 6]"
      ]
     },
     "execution_count": 429,
     "metadata": {},
     "output_type": "execute_result"
    }
   ],
   "source": [
    "mh3.get_heap()"
   ]
  },
  {
   "cell_type": "code",
   "execution_count": null,
   "id": "db21c1c3",
   "metadata": {},
   "outputs": [],
   "source": []
  }
 ],
 "metadata": {
  "kernelspec": {
   "display_name": "Python 3 (ipykernel)",
   "language": "python",
   "name": "python3"
  },
  "language_info": {
   "codemirror_mode": {
    "name": "ipython",
    "version": 3
   },
   "file_extension": ".py",
   "mimetype": "text/x-python",
   "name": "python",
   "nbconvert_exporter": "python",
   "pygments_lexer": "ipython3",
   "version": "3.10.11"
  }
 },
 "nbformat": 4,
 "nbformat_minor": 5
}
