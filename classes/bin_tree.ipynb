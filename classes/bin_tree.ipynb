{
 "cells": [
  {
   "cell_type": "code",
   "execution_count": 1,
   "outputs": [],
   "source": [
    "from classes.binary_tree import BinaryTree as BT"
   ],
   "metadata": {
    "collapsed": false,
    "ExecuteTime": {
     "end_time": "2024-03-01T18:18:50.454303700Z",
     "start_time": "2024-03-01T18:18:50.413293900Z"
    }
   },
   "id": "5b5e4b9a6187afb5"
  },
  {
   "cell_type": "markdown",
   "source": [
    "#### 1"
   ],
   "metadata": {
    "collapsed": false
   },
   "id": "46c10d3d04881bdf"
  },
  {
   "cell_type": "code",
   "execution_count": 2,
   "outputs": [],
   "source": [
    "bt = BT()"
   ],
   "metadata": {
    "collapsed": false,
    "ExecuteTime": {
     "end_time": "2024-03-01T18:18:50.492312Z",
     "start_time": "2024-03-01T18:18:50.457305300Z"
    }
   },
   "id": "20b6be30326a440"
  },
  {
   "cell_type": "code",
   "outputs": [],
   "source": [],
   "metadata": {
    "collapsed": false,
    "ExecuteTime": {
     "end_time": "2024-03-01T18:18:50.494323200Z",
     "start_time": "2024-03-01T18:18:50.473318700Z"
    }
   },
   "id": "64f2fc46aef83929",
   "execution_count": 2
  },
  {
   "cell_type": "code",
   "execution_count": 3,
   "outputs": [],
   "source": [
    "bt.insert(20)\n",
    "bt.insert(25)\n",
    "bt.insert(21)\n",
    "bt.insert(18)\n",
    "bt.insert(19)\n",
    "bt.insert(14)\n",
    "bt.insert(17)\n",
    "bt.insert(15)\n",
    "bt.insert(16)"
   ],
   "metadata": {
    "collapsed": false,
    "ExecuteTime": {
     "end_time": "2024-03-01T18:18:50.524329400Z",
     "start_time": "2024-03-01T18:18:50.488321600Z"
    }
   },
   "id": "55c38e7ed1a80eda"
  },
  {
   "cell_type": "code",
   "outputs": [
    {
     "name": "stdout",
     "output_type": "stream",
     "text": [
      "Preorder: [20, 18, 14, 17, 15, 16, 19, 25, 21]\n"
     ]
    }
   ],
   "source": [
    "bt.print_tree()"
   ],
   "metadata": {
    "collapsed": false,
    "ExecuteTime": {
     "end_time": "2024-03-01T18:18:51.093448700Z",
     "start_time": "2024-03-01T18:18:50.506315800Z"
    }
   },
   "id": "512f53e3f4b3f216",
   "execution_count": 4
  },
  {
   "cell_type": "code",
   "outputs": [],
   "source": [
    "bt.delete(21)"
   ],
   "metadata": {
    "collapsed": false,
    "ExecuteTime": {
     "end_time": "2024-03-01T18:18:51.095449100Z",
     "start_time": "2024-03-01T18:18:51.069444300Z"
    }
   },
   "id": "729a1775b1ab74a8",
   "execution_count": 5
  },
  {
   "cell_type": "code",
   "outputs": [
    {
     "name": "stdout",
     "output_type": "stream",
     "text": [
      "Preorder: [20, 18, 14, 17, 15, 16, 19, 25]\n"
     ]
    }
   ],
   "source": [
    "bt.print_tree()"
   ],
   "metadata": {
    "collapsed": false,
    "ExecuteTime": {
     "end_time": "2024-03-01T18:18:51.433525300Z",
     "start_time": "2024-03-01T18:18:51.082445500Z"
    }
   },
   "id": "de24227c31b45e1a",
   "execution_count": 6
  },
  {
   "cell_type": "code",
   "outputs": [
    {
     "name": "stdout",
     "output_type": "stream",
     "text": [
      "The tree is empty.\n"
     ]
    }
   ],
   "source": [
    "bt.burn_off()\n",
    "bt.print_tree()"
   ],
   "metadata": {
    "collapsed": false,
    "ExecuteTime": {
     "end_time": "2024-03-01T18:18:51.447529200Z",
     "start_time": "2024-03-01T18:18:51.431525Z"
    }
   },
   "id": "a43f36a4d4c39151",
   "execution_count": 7
  },
  {
   "cell_type": "code",
   "outputs": [],
   "source": [
    "bt.insert(20)\n",
    "bt.insert(25)\n",
    "bt.insert(21)\n",
    "bt.insert(18)\n",
    "bt.insert(19)\n",
    "bt.insert(14)\n",
    "bt.insert(17)\n",
    "bt.insert(15)\n",
    "bt.insert(16)"
   ],
   "metadata": {
    "collapsed": false,
    "ExecuteTime": {
     "end_time": "2024-03-01T18:18:51.498540100Z",
     "start_time": "2024-03-01T18:18:51.447529200Z"
    }
   },
   "id": "f2db77fe37b89846",
   "execution_count": 8
  },
  {
   "cell_type": "code",
   "outputs": [
    {
     "name": "stdout",
     "output_type": "stream",
     "text": [
      "Preorder: [20, 18, 14, 17, 15, 16, 19, 25, 21]\n"
     ]
    }
   ],
   "source": [
    "bt.print_tree()"
   ],
   "metadata": {
    "collapsed": false,
    "ExecuteTime": {
     "end_time": "2024-03-01T18:18:51.654576200Z",
     "start_time": "2024-03-01T18:18:51.463532Z"
    }
   },
   "id": "bdb6e73f4956ee36",
   "execution_count": 9
  },
  {
   "cell_type": "code",
   "outputs": [
    {
     "name": "stdout",
     "output_type": "stream",
     "text": [
      "Preorder: [20, 18, 14, 17, 15, 16, 19, 21]\n"
     ]
    }
   ],
   "source": [
    "bt.delete(25)\n",
    "bt.print_tree()"
   ],
   "metadata": {
    "collapsed": false,
    "ExecuteTime": {
     "end_time": "2024-03-01T18:18:51.867623400Z",
     "start_time": "2024-03-01T18:18:51.656577Z"
    }
   },
   "id": "ddd56cb73e7cd856",
   "execution_count": 10
  },
  {
   "cell_type": "code",
   "outputs": [
    {
     "name": "stdout",
     "output_type": "stream",
     "text": [
      "Preorder: [20, 18, 17, 15, 16, 19, 21]\n"
     ]
    }
   ],
   "source": [
    "bt.delete(14)\n",
    "bt.print_tree()"
   ],
   "metadata": {
    "collapsed": false,
    "ExecuteTime": {
     "end_time": "2024-03-01T18:18:52.096675300Z",
     "start_time": "2024-03-01T18:18:51.863624300Z"
    }
   },
   "id": "ff5992e77fd8e467",
   "execution_count": 11
  },
  {
   "cell_type": "code",
   "outputs": [
    {
     "name": "stdout",
     "output_type": "stream",
     "text": [
      "Preorder: [20, 17, 15, 16, 19, 21]\n"
     ]
    }
   ],
   "source": [
    "bt.delete(18)\n",
    "bt.print_tree()"
   ],
   "metadata": {
    "collapsed": false,
    "ExecuteTime": {
     "end_time": "2024-03-01T18:18:52.373738500Z",
     "start_time": "2024-03-01T18:18:52.091674400Z"
    }
   },
   "id": "9d97f7362c11c6a8",
   "execution_count": 12
  },
  {
   "cell_type": "code",
   "outputs": [],
   "source": [
    "bt.burn_off()\n",
    "bt.insert(20)\n",
    "bt.insert(25)\n",
    "bt.insert(21)\n",
    "bt.insert(18)\n",
    "bt.insert(19)\n",
    "bt.insert(14)\n",
    "bt.insert(17)\n",
    "bt.insert(15)\n",
    "bt.insert(16)"
   ],
   "metadata": {
    "collapsed": false,
    "ExecuteTime": {
     "end_time": "2024-03-01T18:18:52.375738800Z",
     "start_time": "2024-03-01T18:18:52.326727900Z"
    }
   },
   "id": "9b9c063756fed0f9",
   "execution_count": 13
  },
  {
   "cell_type": "code",
   "outputs": [
    {
     "name": "stdout",
     "output_type": "stream",
     "text": [
      "Preorder: [20, 17, 14, 15, 16, 19, 25, 21]\n"
     ]
    }
   ],
   "source": [
    "bt.delete(18)\n",
    "bt.print_tree()"
   ],
   "metadata": {
    "collapsed": false,
    "ExecuteTime": {
     "end_time": "2024-03-01T18:18:52.550779100Z",
     "start_time": "2024-03-01T18:18:52.344731800Z"
    }
   },
   "id": "906aeaecfbfe44ae",
   "execution_count": 14
  },
  {
   "cell_type": "code",
   "outputs": [
    {
     "name": "stdout",
     "output_type": "stream",
     "text": [
      "Preorder: [20, 16, 14, 15, 19, 25, 21]\n"
     ]
    }
   ],
   "source": [
    "bt.delete(17)\n",
    "bt.print_tree()"
   ],
   "metadata": {
    "collapsed": false,
    "ExecuteTime": {
     "end_time": "2024-03-01T18:18:52.770829600Z",
     "start_time": "2024-03-01T18:18:52.553780100Z"
    }
   },
   "id": "fb88bcdbe1642f8e",
   "execution_count": 15
  },
  {
   "cell_type": "code",
   "outputs": [
    {
     "name": "stdout",
     "output_type": "stream",
     "text": [
      "Preorder: [20, 15, 14, 19, 25, 21]\n"
     ]
    }
   ],
   "source": [
    "bt.delete(16)\n",
    "bt.print_tree()"
   ],
   "metadata": {
    "collapsed": false,
    "ExecuteTime": {
     "end_time": "2024-03-01T18:18:52.965872700Z",
     "start_time": "2024-03-01T18:18:52.757827100Z"
    }
   },
   "id": "7d81cc68e839efca",
   "execution_count": 16
  },
  {
   "cell_type": "code",
   "outputs": [
    {
     "name": "stdout",
     "output_type": "stream",
     "text": [
      "Preorder: [20, 14, 19, 25, 21]\n"
     ]
    }
   ],
   "source": [
    "bt.delete(15)\n",
    "bt.print_tree()"
   ],
   "metadata": {
    "collapsed": false,
    "ExecuteTime": {
     "end_time": "2024-03-01T18:18:53.184923600Z",
     "start_time": "2024-03-01T18:18:52.967873300Z"
    }
   },
   "id": "bf3e371a5b1698b5",
   "execution_count": 17
  },
  {
   "cell_type": "code",
   "outputs": [
    {
     "name": "stdout",
     "output_type": "stream",
     "text": [
      "Preorder: [20, 19, 25, 21]\n"
     ]
    }
   ],
   "source": [
    "bt.delete(14)\n",
    "bt.print_tree()"
   ],
   "metadata": {
    "collapsed": false,
    "ExecuteTime": {
     "end_time": "2024-03-01T18:18:53.385968Z",
     "start_time": "2024-03-01T18:18:53.173921200Z"
    }
   },
   "id": "eed66c6a3a3d419e",
   "execution_count": 18
  },
  {
   "cell_type": "code",
   "outputs": [
    {
     "name": "stdout",
     "output_type": "stream",
     "text": [
      "Preorder: [20, 19, 21]\n"
     ]
    }
   ],
   "source": [
    "bt.delete(25)\n",
    "bt.print_tree()"
   ],
   "metadata": {
    "collapsed": false,
    "ExecuteTime": {
     "end_time": "2024-03-01T18:18:53.617021800Z",
     "start_time": "2024-03-01T18:18:53.382967500Z"
    }
   },
   "id": "dee35acdc63c07f4",
   "execution_count": 19
  },
  {
   "cell_type": "code",
   "outputs": [
    {
     "ename": "ValueError",
     "evalue": "Key does not exist in the binary tree.",
     "output_type": "error",
     "traceback": [
      "\u001B[1;31m---------------------------------------------------------------------------\u001B[0m",
      "\u001B[1;31mValueError\u001B[0m                                Traceback (most recent call last)",
      "Cell \u001B[1;32mIn[20], line 1\u001B[0m\n\u001B[1;32m----> 1\u001B[0m \u001B[43mbt\u001B[49m\u001B[38;5;241;43m.\u001B[39;49m\u001B[43mdelete\u001B[49m\u001B[43m(\u001B[49m\u001B[38;5;241;43m25\u001B[39;49m\u001B[43m)\u001B[49m\n\u001B[0;32m      2\u001B[0m bt\u001B[38;5;241m.\u001B[39mprint_tree()\n",
      "File \u001B[1;32mD:\\da\\SODA\\CS_Seminar\\CS-Seminars\\classes\\binary_tree.py:56\u001B[0m, in \u001B[0;36mBinaryTree.delete\u001B[1;34m(self, key)\u001B[0m\n\u001B[0;32m     54\u001B[0m \u001B[38;5;28;01mdef\u001B[39;00m \u001B[38;5;21mdelete\u001B[39m(\u001B[38;5;28mself\u001B[39m, key: \u001B[38;5;28mint\u001B[39m) \u001B[38;5;241m-\u001B[39m\u001B[38;5;241m>\u001B[39m \u001B[38;5;28;01mNone\u001B[39;00m:\n\u001B[0;32m     55\u001B[0m     \u001B[38;5;28;01mif\u001B[39;00m \u001B[38;5;129;01mnot\u001B[39;00m \u001B[38;5;28mself\u001B[39m\u001B[38;5;241m.\u001B[39m_delete_rec(key, \u001B[38;5;28mself\u001B[39m\u001B[38;5;241m.\u001B[39mroot, \u001B[38;5;28mself\u001B[39m\u001B[38;5;241m.\u001B[39mroot):\n\u001B[1;32m---> 56\u001B[0m         \u001B[38;5;28;01mraise\u001B[39;00m \u001B[38;5;167;01mValueError\u001B[39;00m(\u001B[38;5;124m\"\u001B[39m\u001B[38;5;124mKey does not exist in the binary tree.\u001B[39m\u001B[38;5;124m\"\u001B[39m)\n\u001B[0;32m     57\u001B[0m     \u001B[38;5;28mself\u001B[39m\u001B[38;5;241m.\u001B[39msize \u001B[38;5;241m-\u001B[39m\u001B[38;5;241m=\u001B[39m \u001B[38;5;241m1\u001B[39m\n",
      "\u001B[1;31mValueError\u001B[0m: Key does not exist in the binary tree."
     ]
    }
   ],
   "source": [
    "bt.delete(25)\n",
    "bt.print_tree()"
   ],
   "metadata": {
    "collapsed": false,
    "ExecuteTime": {
     "end_time": "2024-03-01T18:18:54.189151200Z",
     "start_time": "2024-03-01T18:18:53.605018600Z"
    }
   },
   "id": "ead673291ef45741",
   "execution_count": 20
  },
  {
   "cell_type": "code",
   "outputs": [
    {
     "data": {
      "text/plain": "1"
     },
     "execution_count": 21,
     "metadata": {},
     "output_type": "execute_result"
    }
   ],
   "source": [
    "bt.count_trees"
   ],
   "metadata": {
    "collapsed": false,
    "ExecuteTime": {
     "end_time": "2024-03-01T18:18:57.863392900Z",
     "start_time": "2024-03-01T18:18:57.846379900Z"
    }
   },
   "id": "2aa2256ba762e2de",
   "execution_count": 21
  },
  {
   "cell_type": "code",
   "outputs": [
    {
     "data": {
      "text/plain": "2"
     },
     "execution_count": 22,
     "metadata": {},
     "output_type": "execute_result"
    }
   ],
   "source": [
    "bt2 = BT()\n",
    "bt2.count_trees"
   ],
   "metadata": {
    "collapsed": false,
    "ExecuteTime": {
     "end_time": "2024-03-01T18:18:58.536802400Z",
     "start_time": "2024-03-01T18:18:58.500794500Z"
    }
   },
   "id": "b0b0727c81780660",
   "execution_count": 22
  },
  {
   "cell_type": "code",
   "outputs": [
    {
     "data": {
      "text/plain": "2"
     },
     "execution_count": 23,
     "metadata": {},
     "output_type": "execute_result"
    }
   ],
   "source": [
    "bt.count_trees"
   ],
   "metadata": {
    "collapsed": false,
    "ExecuteTime": {
     "end_time": "2024-03-01T18:18:59.164075200Z",
     "start_time": "2024-03-01T18:18:59.154072400Z"
    }
   },
   "id": "29245cbf5739e6e9",
   "execution_count": 23
  },
  {
   "cell_type": "code",
   "outputs": [
    {
     "data": {
      "text/plain": "1"
     },
     "execution_count": 24,
     "metadata": {},
     "output_type": "execute_result"
    }
   ],
   "source": [
    "del bt2\n",
    "bt.count_trees"
   ],
   "metadata": {
    "collapsed": false,
    "ExecuteTime": {
     "end_time": "2024-03-01T18:19:00.673844200Z",
     "start_time": "2024-03-01T18:19:00.655840300Z"
    }
   },
   "id": "7414eb07d2ba5b3f",
   "execution_count": 24
  },
  {
   "cell_type": "code",
   "outputs": [
    {
     "data": {
      "text/plain": "1"
     },
     "execution_count": 25,
     "metadata": {},
     "output_type": "execute_result"
    }
   ],
   "source": [
    "BT.count_trees"
   ],
   "metadata": {
    "collapsed": false,
    "ExecuteTime": {
     "end_time": "2024-03-01T18:19:01.673068700Z",
     "start_time": "2024-03-01T18:19:01.645063200Z"
    }
   },
   "id": "6fd812c0f8501b36",
   "execution_count": 25
  },
  {
   "cell_type": "code",
   "outputs": [],
   "source": [],
   "metadata": {
    "collapsed": false,
    "ExecuteTime": {
     "start_time": "2024-03-01T18:18:54.206774Z"
    }
   },
   "id": "af44cecc7c0b79a8",
   "execution_count": null
  },
  {
   "cell_type": "code",
   "outputs": [],
   "source": [],
   "metadata": {
    "collapsed": false,
    "ExecuteTime": {
     "end_time": "2024-03-01T18:18:54.209785600Z",
     "start_time": "2024-03-01T18:18:54.209785600Z"
    }
   },
   "id": "5bb67da9cac49a74",
   "execution_count": null
  },
  {
   "cell_type": "code",
   "outputs": [],
   "source": [],
   "metadata": {
    "collapsed": false,
    "ExecuteTime": {
     "end_time": "2024-03-01T18:18:54.240294200Z",
     "start_time": "2024-03-01T18:18:54.211775800Z"
    }
   },
   "id": "464f9ca8114046a3"
  }
 ],
 "metadata": {
  "kernelspec": {
   "display_name": "Python 3",
   "language": "python",
   "name": "python3"
  },
  "language_info": {
   "codemirror_mode": {
    "name": "ipython",
    "version": 2
   },
   "file_extension": ".py",
   "mimetype": "text/x-python",
   "name": "python",
   "nbconvert_exporter": "python",
   "pygments_lexer": "ipython2",
   "version": "2.7.6"
  }
 },
 "nbformat": 4,
 "nbformat_minor": 5
}
