{
 "cells": [
  {
   "cell_type": "code",
   "execution_count": 26,
   "outputs": [],
   "source": [
    "from classes.binary_tree import BinaryTree as BT"
   ],
   "metadata": {
    "collapsed": false,
    "ExecuteTime": {
     "end_time": "2024-03-04T12:48:46.776096400Z",
     "start_time": "2024-03-04T12:48:46.761482300Z"
    }
   },
   "id": "5b5e4b9a6187afb5"
  },
  {
   "cell_type": "markdown",
   "source": [
    "#### 1"
   ],
   "metadata": {
    "collapsed": false
   },
   "id": "46c10d3d04881bdf"
  },
  {
   "cell_type": "code",
   "execution_count": 27,
   "outputs": [],
   "source": [
    "bt = BT()"
   ],
   "metadata": {
    "collapsed": false,
    "ExecuteTime": {
     "end_time": "2024-03-04T12:48:48.446303700Z",
     "start_time": "2024-03-04T12:48:48.425449300Z"
    }
   },
   "id": "20b6be30326a440"
  },
  {
   "cell_type": "code",
   "outputs": [],
   "source": [],
   "metadata": {
    "collapsed": false,
    "ExecuteTime": {
     "end_time": "2024-03-04T12:48:49.128416Z",
     "start_time": "2024-03-04T12:48:49.116979500Z"
    }
   },
   "id": "64f2fc46aef83929",
   "execution_count": 27
  },
  {
   "cell_type": "code",
   "execution_count": 28,
   "outputs": [],
   "source": [
    "bt.insert(20)\n",
    "bt.insert(25)\n",
    "bt.insert(21)\n",
    "bt.insert(18)\n",
    "bt.insert(19)\n",
    "bt.insert(14)\n",
    "bt.insert(17)\n",
    "bt.insert(15)\n",
    "bt.insert(16)"
   ],
   "metadata": {
    "collapsed": false,
    "ExecuteTime": {
     "end_time": "2024-03-04T12:48:49.664242Z",
     "start_time": "2024-03-04T12:48:49.652652500Z"
    }
   },
   "id": "55c38e7ed1a80eda"
  },
  {
   "cell_type": "code",
   "outputs": [
    {
     "name": "stdout",
     "output_type": "stream",
     "text": [
      "Preorder: [20, 18, 14, 17, 15, 16, 19, 25, 21]\n"
     ]
    }
   ],
   "source": [
    "bt.print_tree()"
   ],
   "metadata": {
    "collapsed": false,
    "ExecuteTime": {
     "end_time": "2024-03-04T12:48:50.100066500Z",
     "start_time": "2024-03-04T12:48:49.852101300Z"
    }
   },
   "id": "512f53e3f4b3f216",
   "execution_count": 29
  },
  {
   "cell_type": "code",
   "outputs": [],
   "source": [
    "bt.delete(21)"
   ],
   "metadata": {
    "collapsed": false,
    "ExecuteTime": {
     "end_time": "2024-03-04T12:49:44.977595Z",
     "start_time": "2024-03-04T12:49:44.959699600Z"
    }
   },
   "id": "729a1775b1ab74a8",
   "execution_count": 30
  },
  {
   "cell_type": "code",
   "outputs": [
    {
     "name": "stdout",
     "output_type": "stream",
     "text": [
      "Preorder: [20, 18, 14, 17, 15, 16, 19, 25]\n"
     ]
    }
   ],
   "source": [
    "bt.print_tree()"
   ],
   "metadata": {
    "collapsed": false,
    "ExecuteTime": {
     "end_time": "2024-03-04T12:49:45.784867600Z",
     "start_time": "2024-03-04T12:49:45.658557900Z"
    }
   },
   "id": "de24227c31b45e1a",
   "execution_count": 31
  },
  {
   "cell_type": "code",
   "outputs": [
    {
     "name": "stdout",
     "output_type": "stream",
     "text": [
      "The tree is empty.\n"
     ]
    }
   ],
   "source": [
    "bt.burn_off()\n",
    "bt.print_tree()"
   ],
   "metadata": {
    "collapsed": false,
    "ExecuteTime": {
     "end_time": "2024-03-04T14:23:59.341717600Z",
     "start_time": "2024-03-04T14:23:59.337695900Z"
    }
   },
   "id": "a43f36a4d4c39151",
   "execution_count": 39
  },
  {
   "cell_type": "code",
   "outputs": [],
   "source": [
    "bt.insert(20)\n",
    "bt.insert(25)\n",
    "bt.insert(21)\n",
    "bt.insert(18)\n",
    "bt.insert(19)\n",
    "bt.insert(14)\n",
    "bt.insert(17)\n",
    "bt.insert(15)\n",
    "bt.insert(16)"
   ],
   "metadata": {
    "collapsed": false,
    "ExecuteTime": {
     "end_time": "2024-03-04T14:24:01.231486700Z",
     "start_time": "2024-03-04T14:24:01.221331400Z"
    }
   },
   "id": "f2db77fe37b89846",
   "execution_count": 40
  },
  {
   "cell_type": "code",
   "outputs": [
    {
     "name": "stdout",
     "output_type": "stream",
     "text": [
      "Preorder: [20, 18, 14, 17, 15, 16, 19, 25, 21]\n"
     ]
    }
   ],
   "source": [
    "bt.print_tree()"
   ],
   "metadata": {
    "collapsed": false,
    "ExecuteTime": {
     "end_time": "2024-03-04T14:24:02.132216400Z",
     "start_time": "2024-03-04T14:24:02.009413700Z"
    }
   },
   "id": "bdb6e73f4956ee36",
   "execution_count": 41
  },
  {
   "cell_type": "code",
   "outputs": [
    {
     "name": "stdout",
     "output_type": "stream",
     "text": [
      "Preorder: [20, 18, 14, 17, 15, 16, 19, 21]\n"
     ]
    }
   ],
   "source": [
    "bt.delete(25)\n",
    "bt.print_tree()"
   ],
   "metadata": {
    "collapsed": false,
    "ExecuteTime": {
     "end_time": "2024-03-04T12:50:03.951156700Z",
     "start_time": "2024-03-04T12:50:03.842613200Z"
    }
   },
   "id": "ddd56cb73e7cd856",
   "execution_count": 35
  },
  {
   "cell_type": "code",
   "outputs": [
    {
     "name": "stdout",
     "output_type": "stream",
     "text": [
      "Preorder: [20, 18, 17, 15, 16, 19, 21]\n"
     ]
    }
   ],
   "source": [
    "bt.delete(14)\n",
    "bt.print_tree()"
   ],
   "metadata": {
    "collapsed": false,
    "ExecuteTime": {
     "end_time": "2024-03-04T12:50:06.423461300Z",
     "start_time": "2024-03-04T12:50:06.304730300Z"
    }
   },
   "id": "ff5992e77fd8e467",
   "execution_count": 36
  },
  {
   "cell_type": "code",
   "outputs": [
    {
     "name": "stdout",
     "output_type": "stream",
     "text": [
      "Preorder: [20, 17, 15, 16, 19, 21]\n"
     ]
    }
   ],
   "source": [
    "bt.delete(18)\n",
    "bt.print_tree()"
   ],
   "metadata": {
    "collapsed": false,
    "ExecuteTime": {
     "end_time": "2024-03-04T12:50:07.367474600Z",
     "start_time": "2024-03-04T12:50:07.243837300Z"
    }
   },
   "id": "9d97f7362c11c6a8",
   "execution_count": 37
  },
  {
   "cell_type": "code",
   "outputs": [],
   "source": [
    "bt.burn_off()\n",
    "bt.insert(20)\n",
    "bt.insert(25)\n",
    "bt.insert(21)\n",
    "bt.insert(18)\n",
    "bt.insert(19)\n",
    "bt.insert(14)\n",
    "bt.insert(17)\n",
    "bt.insert(15)\n",
    "bt.insert(16)"
   ],
   "metadata": {
    "collapsed": false,
    "ExecuteTime": {
     "end_time": "2024-03-04T12:50:11.055636600Z",
     "start_time": "2024-03-04T12:50:11.040044600Z"
    }
   },
   "id": "9b9c063756fed0f9",
   "execution_count": 38
  },
  {
   "cell_type": "code",
   "outputs": [
    {
     "name": "stdout",
     "output_type": "stream",
     "text": [
      "Preorder: [20, 17, 14, 15, 16, 19, 25, 21]\n"
     ]
    }
   ],
   "source": [
    "bt.delete(18)\n",
    "bt.print_tree()"
   ],
   "metadata": {
    "collapsed": false,
    "ExecuteTime": {
     "end_time": "2024-03-04T07:58:25.792510900Z",
     "start_time": "2024-03-04T07:58:25.623125900Z"
    }
   },
   "id": "906aeaecfbfe44ae",
   "execution_count": 14
  },
  {
   "cell_type": "code",
   "outputs": [
    {
     "name": "stdout",
     "output_type": "stream",
     "text": [
      "Preorder: [20, 16, 14, 15, 19, 25, 21]\n"
     ]
    }
   ],
   "source": [
    "bt.delete(17)\n",
    "bt.print_tree()"
   ],
   "metadata": {
    "collapsed": false,
    "ExecuteTime": {
     "end_time": "2024-03-04T07:58:25.917168600Z",
     "start_time": "2024-03-04T07:58:25.765265700Z"
    }
   },
   "id": "fb88bcdbe1642f8e",
   "execution_count": 15
  },
  {
   "cell_type": "code",
   "outputs": [
    {
     "name": "stdout",
     "output_type": "stream",
     "text": [
      "Preorder: [20, 15, 14, 19, 25, 21]\n"
     ]
    }
   ],
   "source": [
    "bt.delete(16)\n",
    "bt.print_tree()"
   ],
   "metadata": {
    "collapsed": false,
    "ExecuteTime": {
     "end_time": "2024-03-04T07:58:26.090949600Z",
     "start_time": "2024-03-04T07:58:25.890234400Z"
    }
   },
   "id": "7d81cc68e839efca",
   "execution_count": 16
  },
  {
   "cell_type": "code",
   "outputs": [
    {
     "name": "stdout",
     "output_type": "stream",
     "text": [
      "Preorder: [20, 14, 19, 25, 21]\n"
     ]
    }
   ],
   "source": [
    "bt.delete(15)\n",
    "bt.print_tree()"
   ],
   "metadata": {
    "collapsed": false,
    "ExecuteTime": {
     "end_time": "2024-03-04T07:58:26.200005100Z",
     "start_time": "2024-03-04T07:58:26.014361100Z"
    }
   },
   "id": "bf3e371a5b1698b5",
   "execution_count": 17
  },
  {
   "cell_type": "code",
   "outputs": [
    {
     "name": "stdout",
     "output_type": "stream",
     "text": [
      "Preorder: [20, 19, 25, 21]\n"
     ]
    }
   ],
   "source": [
    "bt.delete(14)\n",
    "bt.print_tree()"
   ],
   "metadata": {
    "collapsed": false,
    "ExecuteTime": {
     "end_time": "2024-03-04T07:58:26.403975400Z",
     "start_time": "2024-03-04T07:58:26.156826300Z"
    }
   },
   "id": "eed66c6a3a3d419e",
   "execution_count": 18
  },
  {
   "cell_type": "code",
   "outputs": [
    {
     "name": "stdout",
     "output_type": "stream",
     "text": [
      "Preorder: [20, 19, 21]\n"
     ]
    }
   ],
   "source": [
    "bt.delete(25)\n",
    "bt.print_tree()"
   ],
   "metadata": {
    "collapsed": false,
    "ExecuteTime": {
     "end_time": "2024-03-04T07:58:26.511847300Z",
     "start_time": "2024-03-04T07:58:26.297107900Z"
    }
   },
   "id": "dee35acdc63c07f4",
   "execution_count": 19
  },
  {
   "cell_type": "code",
   "outputs": [
    {
     "ename": "ValueError",
     "evalue": "Key does not exist in the binary tree.",
     "output_type": "error",
     "traceback": [
      "\u001B[1;31m---------------------------------------------------------------------------\u001B[0m",
      "\u001B[1;31mValueError\u001B[0m                                Traceback (most recent call last)",
      "Cell \u001B[1;32mIn[20], line 1\u001B[0m\n\u001B[1;32m----> 1\u001B[0m \u001B[43mbt\u001B[49m\u001B[38;5;241;43m.\u001B[39;49m\u001B[43mdelete\u001B[49m\u001B[43m(\u001B[49m\u001B[38;5;241;43m25\u001B[39;49m\u001B[43m)\u001B[49m\n\u001B[0;32m      2\u001B[0m bt\u001B[38;5;241m.\u001B[39mprint_tree()\n",
      "File \u001B[1;32mD:\\devSODA\\CS_Seminar\\CS-Seminars\\classes\\binary_tree.py:56\u001B[0m, in \u001B[0;36mBinaryTree.delete\u001B[1;34m(self, key)\u001B[0m\n\u001B[0;32m     54\u001B[0m \u001B[38;5;28;01mdef\u001B[39;00m \u001B[38;5;21mdelete\u001B[39m(\u001B[38;5;28mself\u001B[39m, key: \u001B[38;5;28mint\u001B[39m) \u001B[38;5;241m-\u001B[39m\u001B[38;5;241m>\u001B[39m \u001B[38;5;28;01mNone\u001B[39;00m:\n\u001B[0;32m     55\u001B[0m     \u001B[38;5;28;01mif\u001B[39;00m \u001B[38;5;129;01mnot\u001B[39;00m \u001B[38;5;28mself\u001B[39m\u001B[38;5;241m.\u001B[39m_delete_rec(key, \u001B[38;5;28mself\u001B[39m\u001B[38;5;241m.\u001B[39mroot, \u001B[38;5;28mself\u001B[39m\u001B[38;5;241m.\u001B[39mroot):\n\u001B[1;32m---> 56\u001B[0m         \u001B[38;5;28;01mraise\u001B[39;00m \u001B[38;5;167;01mValueError\u001B[39;00m(\u001B[38;5;124m\"\u001B[39m\u001B[38;5;124mKey does not exist in the binary tree.\u001B[39m\u001B[38;5;124m\"\u001B[39m)\n\u001B[0;32m     57\u001B[0m     \u001B[38;5;28mself\u001B[39m\u001B[38;5;241m.\u001B[39msize \u001B[38;5;241m-\u001B[39m\u001B[38;5;241m=\u001B[39m \u001B[38;5;241m1\u001B[39m\n",
      "\u001B[1;31mValueError\u001B[0m: Key does not exist in the binary tree."
     ]
    }
   ],
   "source": [
    "# bt.delete(25)\n",
    "# bt.print_tree()"
   ],
   "metadata": {
    "collapsed": false,
    "ExecuteTime": {
     "end_time": "2024-03-04T07:58:26.785393Z",
     "start_time": "2024-03-04T07:58:26.486283300Z"
    }
   },
   "id": "ead673291ef45741",
   "execution_count": 20
  },
  {
   "cell_type": "code",
   "outputs": [
    {
     "data": {
      "text/plain": "1"
     },
     "execution_count": 21,
     "metadata": {},
     "output_type": "execute_result"
    }
   ],
   "source": [
    "bt.count_trees"
   ],
   "metadata": {
    "collapsed": false,
    "ExecuteTime": {
     "end_time": "2024-03-04T07:59:51.280830700Z",
     "start_time": "2024-03-04T07:59:51.216082400Z"
    }
   },
   "id": "2aa2256ba762e2de",
   "execution_count": 21
  },
  {
   "cell_type": "code",
   "outputs": [
    {
     "data": {
      "text/plain": "2"
     },
     "execution_count": 22,
     "metadata": {},
     "output_type": "execute_result"
    }
   ],
   "source": [
    "bt2 = BT()\n",
    "bt2.count_trees"
   ],
   "metadata": {
    "collapsed": false,
    "ExecuteTime": {
     "end_time": "2024-03-04T07:59:52.023960300Z",
     "start_time": "2024-03-04T07:59:52.009551800Z"
    }
   },
   "id": "b0b0727c81780660",
   "execution_count": 22
  },
  {
   "cell_type": "code",
   "outputs": [
    {
     "data": {
      "text/plain": "2"
     },
     "execution_count": 23,
     "metadata": {},
     "output_type": "execute_result"
    }
   ],
   "source": [
    "bt.count_trees"
   ],
   "metadata": {
    "collapsed": false,
    "ExecuteTime": {
     "end_time": "2024-03-04T07:59:52.928778100Z",
     "start_time": "2024-03-04T07:59:52.916211200Z"
    }
   },
   "id": "29245cbf5739e6e9",
   "execution_count": 23
  },
  {
   "cell_type": "code",
   "outputs": [
    {
     "data": {
      "text/plain": "1"
     },
     "execution_count": 24,
     "metadata": {},
     "output_type": "execute_result"
    }
   ],
   "source": [
    "del bt2\n",
    "bt.count_trees"
   ],
   "metadata": {
    "collapsed": false,
    "ExecuteTime": {
     "end_time": "2024-03-04T07:59:53.689751600Z",
     "start_time": "2024-03-04T07:59:53.670967Z"
    }
   },
   "id": "7414eb07d2ba5b3f",
   "execution_count": 24
  },
  {
   "cell_type": "code",
   "outputs": [
    {
     "data": {
      "text/plain": "1"
     },
     "execution_count": 25,
     "metadata": {},
     "output_type": "execute_result"
    }
   ],
   "source": [
    "BT.count_trees"
   ],
   "metadata": {
    "collapsed": false,
    "ExecuteTime": {
     "end_time": "2024-03-04T07:59:54.799337100Z",
     "start_time": "2024-03-04T07:59:54.749432200Z"
    }
   },
   "id": "6fd812c0f8501b36",
   "execution_count": 25
  },
  {
   "cell_type": "code",
   "outputs": [],
   "source": [],
   "metadata": {
    "collapsed": false,
    "ExecuteTime": {
     "end_time": "2024-03-04T07:59:58.377379200Z",
     "start_time": "2024-03-04T07:59:58.372362600Z"
    }
   },
   "id": "af44cecc7c0b79a8",
   "execution_count": 25
  },
  {
   "cell_type": "code",
   "outputs": [],
   "source": [],
   "metadata": {
    "collapsed": false,
    "ExecuteTime": {
     "end_time": "2024-03-04T07:59:58.726093100Z",
     "start_time": "2024-03-04T07:59:58.714009500Z"
    }
   },
   "id": "5bb67da9cac49a74",
   "execution_count": 25
  },
  {
   "cell_type": "code",
   "outputs": [],
   "source": [],
   "metadata": {
    "collapsed": false,
    "ExecuteTime": {
     "end_time": "2024-03-04T07:59:59.099129700Z",
     "start_time": "2024-03-04T07:59:59.059013600Z"
    }
   },
   "id": "464f9ca8114046a3",
   "execution_count": 25
  },
  {
   "cell_type": "code",
   "execution_count": null,
   "outputs": [],
   "source": [],
   "metadata": {
    "collapsed": false
   },
   "id": "2ca7bdbb99ea4a46"
  }
 ],
 "metadata": {
  "kernelspec": {
   "display_name": "Python 3",
   "language": "python",
   "name": "python3"
  },
  "language_info": {
   "codemirror_mode": {
    "name": "ipython",
    "version": 2
   },
   "file_extension": ".py",
   "mimetype": "text/x-python",
   "name": "python",
   "nbconvert_exporter": "python",
   "pygments_lexer": "ipython2",
   "version": "2.7.6"
  }
 },
 "nbformat": 4,
 "nbformat_minor": 5
}
