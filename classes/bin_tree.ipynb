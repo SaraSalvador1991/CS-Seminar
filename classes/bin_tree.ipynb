{
 "cells": [
  {
   "cell_type": "code",
   "execution_count": 1,
   "outputs": [],
   "source": [
    "from binary_tree import BinaryTree as BT"
   ],
   "metadata": {
    "collapsed": false,
    "ExecuteTime": {
     "end_time": "2024-03-05T10:17:16.563147300Z",
     "start_time": "2024-03-05T10:17:16.516127700Z"
    }
   },
   "id": "5b5e4b9a6187afb5"
  },
  {
   "cell_type": "markdown",
   "source": [
    "#### 1"
   ],
   "metadata": {
    "collapsed": false
   },
   "id": "46c10d3d04881bdf"
  },
  {
   "cell_type": "code",
   "execution_count": 2,
   "outputs": [],
   "source": [
    "bt = BT()"
   ],
   "metadata": {
    "collapsed": false,
    "ExecuteTime": {
     "end_time": "2024-03-05T10:17:18.213169100Z",
     "start_time": "2024-03-05T10:17:18.202166500Z"
    }
   },
   "id": "20b6be30326a440"
  },
  {
   "cell_type": "code",
   "outputs": [],
   "source": [],
   "metadata": {
    "collapsed": false,
    "ExecuteTime": {
     "end_time": "2024-03-05T10:17:19.122815Z",
     "start_time": "2024-03-05T10:17:19.116813700Z"
    }
   },
   "id": "64f2fc46aef83929",
   "execution_count": 2
  },
  {
   "cell_type": "code",
   "execution_count": 3,
   "outputs": [],
   "source": [
    "bt.insert(20)\n",
    "bt.insert(25)\n",
    "bt.insert(21)\n",
    "bt.insert(18)\n",
    "bt.insert(19)\n",
    "bt.insert(14)\n",
    "bt.insert(17)\n",
    "bt.insert(15)\n",
    "bt.insert(16)"
   ],
   "metadata": {
    "collapsed": false,
    "ExecuteTime": {
     "end_time": "2024-03-05T10:17:19.796888100Z",
     "start_time": "2024-03-05T10:17:19.785883500Z"
    }
   },
   "id": "55c38e7ed1a80eda"
  },
  {
   "cell_type": "code",
   "outputs": [
    {
     "name": "stdout",
     "output_type": "stream",
     "text": [
      "Pre-order: [20, 18, 14, 17, 15, 16, 19, 25, 21]\n",
      "In-order: [14, 15, 16, 17, 18, 19, 20, 21, 25]\n",
      "Post-order: [16, 15, 17, 14, 19, 18, 21, 25, 20]\n"
     ]
    }
   ],
   "source": [
    "bt.print_tree_dfs()"
   ],
   "metadata": {
    "collapsed": false,
    "ExecuteTime": {
     "end_time": "2024-03-05T10:17:36.592894Z",
     "start_time": "2024-03-05T10:17:35.934722800Z"
    }
   },
   "id": "512f53e3f4b3f216",
   "execution_count": 4
  },
  {
   "cell_type": "code",
   "outputs": [
    {
     "name": "stdout",
     "output_type": "stream",
     "text": [
      "Breadth-first: [20, 18, 25, 14, 19, 21, 17, 15, 16]\n"
     ]
    }
   ],
   "source": [
    "bt.print_tree_bfs()"
   ],
   "metadata": {
    "collapsed": false,
    "ExecuteTime": {
     "end_time": "2024-03-05T10:17:53.328039Z",
     "start_time": "2024-03-05T10:17:53.307024600Z"
    }
   },
   "id": "c3383d48bb03e0be",
   "execution_count": 5
  },
  {
   "cell_type": "code",
   "outputs": [],
   "source": [
    "bt.delete(21)"
   ],
   "metadata": {
    "collapsed": false,
    "ExecuteTime": {
     "end_time": "2024-03-05T10:34:10.902580100Z",
     "start_time": "2024-03-05T10:34:10.879574400Z"
    }
   },
   "id": "729a1775b1ab74a8",
   "execution_count": 6
  },
  {
   "cell_type": "code",
   "outputs": [
    {
     "name": "stdout",
     "output_type": "stream",
     "text": [
      "Pre-order: [20, 18, 14, 17, 15, 16, 19, 25]\n",
      "In-order: [14, 15, 16, 17, 18, 19, 20, 25]\n",
      "Post-order: [16, 15, 17, 14, 19, 18, 25, 20]\n",
      "Breadth-first: [20, 18, 25, 14, 19, 17, 15, 16]\n"
     ]
    }
   ],
   "source": [
    "bt.print_tree_dfs()\n",
    "bt.print_tree_bfs()"
   ],
   "metadata": {
    "collapsed": false,
    "ExecuteTime": {
     "end_time": "2024-03-05T10:34:13.571707700Z",
     "start_time": "2024-03-05T10:34:12.888542900Z"
    }
   },
   "id": "de24227c31b45e1a",
   "execution_count": 7
  },
  {
   "cell_type": "code",
   "outputs": [
    {
     "name": "stdout",
     "output_type": "stream",
     "text": [
      "The tree is empty.\n",
      "The tree is empty.\n"
     ]
    }
   ],
   "source": [
    "bt.burn_off()\n",
    "bt.print_tree_dfs()\n",
    "bt.print_tree_bfs()"
   ],
   "metadata": {
    "collapsed": false,
    "ExecuteTime": {
     "end_time": "2024-03-05T10:34:41.854671400Z",
     "start_time": "2024-03-05T10:34:41.828656Z"
    }
   },
   "id": "a43f36a4d4c39151",
   "execution_count": 9
  },
  {
   "cell_type": "code",
   "outputs": [],
   "source": [
    "bt.insert(20)\n",
    "bt.insert(25)\n",
    "bt.insert(21)\n",
    "bt.insert(18)\n",
    "bt.insert(19)\n",
    "bt.insert(14)\n",
    "bt.insert(17)\n",
    "bt.insert(15)\n",
    "bt.insert(16)"
   ],
   "metadata": {
    "collapsed": false,
    "ExecuteTime": {
     "end_time": "2024-03-05T10:34:44.814607700Z",
     "start_time": "2024-03-05T10:34:44.783583300Z"
    }
   },
   "id": "f2db77fe37b89846",
   "execution_count": 10
  },
  {
   "cell_type": "code",
   "outputs": [
    {
     "name": "stdout",
     "output_type": "stream",
     "text": [
      "Pre-order: [20, 18, 14, 17, 15, 16, 19, 25, 21]\n",
      "In-order: [14, 15, 16, 17, 18, 19, 20, 21, 25]\n",
      "Post-order: [16, 15, 17, 14, 19, 18, 21, 25, 20]\n",
      "Breadth-first: [20, 18, 25, 14, 19, 21, 17, 15, 16]\n"
     ]
    }
   ],
   "source": [
    "bt.print_tree_dfs()\n",
    "bt.print_tree_bfs()"
   ],
   "metadata": {
    "collapsed": false,
    "ExecuteTime": {
     "end_time": "2024-03-05T10:34:53.402515800Z",
     "start_time": "2024-03-05T10:34:53.216476Z"
    }
   },
   "id": "bdb6e73f4956ee36",
   "execution_count": 11
  },
  {
   "cell_type": "code",
   "outputs": [
    {
     "name": "stdout",
     "output_type": "stream",
     "text": [
      "Pre-order: [20, 18, 14, 17, 15, 16, 19, 21]\n",
      "In-order: [14, 15, 16, 17, 18, 19, 20, 21]\n",
      "Post-order: [16, 15, 17, 14, 19, 18, 21, 20]\n",
      "Breadth-first: [20, 18, 21, 14, 19, 17, 15, 16]\n"
     ]
    }
   ],
   "source": [
    "bt.delete(25)\n",
    "bt.print_tree_dfs()\n",
    "bt.print_tree_bfs()"
   ],
   "metadata": {
    "collapsed": false,
    "ExecuteTime": {
     "end_time": "2024-03-05T10:35:02.172127800Z",
     "start_time": "2024-03-05T10:35:01.673005800Z"
    }
   },
   "id": "ddd56cb73e7cd856",
   "execution_count": 12
  },
  {
   "cell_type": "code",
   "outputs": [
    {
     "name": "stdout",
     "output_type": "stream",
     "text": [
      "Pre-order: [20, 18, 17, 15, 16, 19, 21]\n",
      "In-order: [15, 16, 17, 18, 19, 20, 21]\n",
      "Post-order: [16, 15, 17, 19, 18, 21, 20]\n",
      "Breadth-first: [20, 18, 21, 17, 19, 15, 16]\n"
     ]
    }
   ],
   "source": [
    "bt.delete(14)\n",
    "bt.print_tree_dfs()\n",
    "bt.print_tree_bfs()"
   ],
   "metadata": {
    "collapsed": false,
    "ExecuteTime": {
     "end_time": "2024-03-05T10:35:10.668585100Z",
     "start_time": "2024-03-05T10:35:10.162460400Z"
    }
   },
   "id": "ff5992e77fd8e467",
   "execution_count": 13
  },
  {
   "cell_type": "code",
   "outputs": [
    {
     "name": "stdout",
     "output_type": "stream",
     "text": [
      "Pre-order: [20, 17, 15, 16, 19, 21]\n",
      "In-order: [15, 16, 17, 19, 20, 21]\n",
      "Post-order: [16, 15, 19, 17, 21, 20]\n",
      "Breadth-first: [20, 17, 21, 15, 19, 16]\n"
     ]
    }
   ],
   "source": [
    "bt.delete(18)\n",
    "bt.print_tree_dfs()\n",
    "bt.print_tree_bfs()"
   ],
   "metadata": {
    "collapsed": false,
    "ExecuteTime": {
     "end_time": "2024-03-05T10:35:19.135204800Z",
     "start_time": "2024-03-05T10:35:18.620078300Z"
    }
   },
   "id": "9d97f7362c11c6a8",
   "execution_count": 14
  },
  {
   "cell_type": "code",
   "outputs": [],
   "source": [
    "bt.burn_off()\n",
    "bt.insert(20)\n",
    "bt.insert(25)\n",
    "bt.insert(21)\n",
    "bt.insert(18)\n",
    "bt.insert(19)\n",
    "bt.insert(14)\n",
    "bt.insert(17)\n",
    "bt.insert(15)\n",
    "bt.insert(16)"
   ],
   "metadata": {
    "collapsed": false,
    "ExecuteTime": {
     "end_time": "2024-03-05T10:35:27.545119800Z",
     "start_time": "2024-03-05T10:35:27.522106Z"
    }
   },
   "id": "9b9c063756fed0f9",
   "execution_count": 15
  },
  {
   "cell_type": "code",
   "outputs": [
    {
     "name": "stdout",
     "output_type": "stream",
     "text": [
      "Pre-order: [20, 17, 14, 15, 16, 19, 25, 21]\n",
      "In-order: [14, 15, 16, 17, 19, 20, 21, 25]\n",
      "Post-order: [16, 15, 14, 19, 17, 21, 25, 20]\n",
      "Breadth-first: [20, 17, 25, 14, 19, 21, 15, 16]\n"
     ]
    }
   ],
   "source": [
    "bt.delete(18)\n",
    "bt.print_tree_dfs()\n",
    "bt.print_tree_bfs()"
   ],
   "metadata": {
    "collapsed": false,
    "ExecuteTime": {
     "end_time": "2024-03-05T10:35:56.387461700Z",
     "start_time": "2024-03-05T10:35:55.885347Z"
    }
   },
   "id": "906aeaecfbfe44ae",
   "execution_count": 16
  },
  {
   "cell_type": "code",
   "outputs": [
    {
     "name": "stdout",
     "output_type": "stream",
     "text": [
      "Pre-order: [20, 16, 14, 15, 19, 25, 21]\n",
      "In-order: [14, 15, 16, 19, 20, 21, 25]\n",
      "Post-order: [15, 14, 19, 16, 21, 25, 20]\n",
      "Breadth-first: [20, 16, 25, 14, 19, 21, 15]\n"
     ]
    }
   ],
   "source": [
    "bt.delete(17)\n",
    "bt.print_tree_dfs()\n",
    "bt.print_tree_bfs()"
   ],
   "metadata": {
    "collapsed": false,
    "ExecuteTime": {
     "end_time": "2024-03-05T10:36:08.831738Z",
     "start_time": "2024-03-05T10:36:08.651696100Z"
    }
   },
   "id": "fb88bcdbe1642f8e",
   "execution_count": 17
  },
  {
   "cell_type": "code",
   "outputs": [
    {
     "name": "stdout",
     "output_type": "stream",
     "text": [
      "Pre-order: [20, 15, 14, 19, 25, 21]\n",
      "In-order: [14, 15, 19, 20, 21, 25]\n",
      "Post-order: [14, 19, 15, 21, 25, 20]\n",
      "Breadth-first: [20, 15, 25, 14, 19, 21]\n"
     ]
    }
   ],
   "source": [
    "bt.delete(16)\n",
    "bt.print_tree_dfs()\n",
    "bt.print_tree_bfs()"
   ],
   "metadata": {
    "collapsed": false,
    "ExecuteTime": {
     "end_time": "2024-03-05T10:37:08.956162600Z",
     "start_time": "2024-03-05T10:37:08.471055300Z"
    }
   },
   "id": "7d81cc68e839efca",
   "execution_count": 18
  },
  {
   "cell_type": "code",
   "outputs": [
    {
     "name": "stdout",
     "output_type": "stream",
     "text": [
      "Pre-order: [20, 14, 19, 25, 21]\n",
      "In-order: [14, 19, 20, 21, 25]\n",
      "Post-order: [19, 14, 21, 25, 20]\n",
      "Breadth-first: [20, 14, 25, 19, 21]\n"
     ]
    }
   ],
   "source": [
    "bt.delete(15)\n",
    "bt.print_tree_dfs()\n",
    "bt.print_tree_bfs()"
   ],
   "metadata": {
    "collapsed": false,
    "ExecuteTime": {
     "end_time": "2024-03-05T10:37:12.738074300Z",
     "start_time": "2024-03-05T10:37:12.567035300Z"
    }
   },
   "id": "bf3e371a5b1698b5",
   "execution_count": 19
  },
  {
   "cell_type": "code",
   "outputs": [
    {
     "name": "stdout",
     "output_type": "stream",
     "text": [
      "Pre-order: [20, 19, 25, 21]\n",
      "In-order: [19, 20, 21, 25]\n",
      "Post-order: [19, 21, 25, 20]\n",
      "Breadth-first: [20, 19, 25, 21]\n"
     ]
    }
   ],
   "source": [
    "bt.delete(14)\n",
    "bt.print_tree_dfs()\n",
    "bt.print_tree_bfs()"
   ],
   "metadata": {
    "collapsed": false,
    "ExecuteTime": {
     "end_time": "2024-03-05T10:37:18.030004700Z",
     "start_time": "2024-03-05T10:37:17.854967200Z"
    }
   },
   "id": "eed66c6a3a3d419e",
   "execution_count": 20
  },
  {
   "cell_type": "code",
   "outputs": [
    {
     "name": "stdout",
     "output_type": "stream",
     "text": [
      "Pre-order: [20, 19, 21]\n",
      "In-order: [19, 20, 21]\n",
      "Post-order: [19, 21, 20]\n",
      "Breadth-first: [20, 19, 21]\n"
     ]
    }
   ],
   "source": [
    "bt.delete(25)\n",
    "bt.print_tree_dfs()\n",
    "bt.print_tree_bfs()"
   ],
   "metadata": {
    "collapsed": false,
    "ExecuteTime": {
     "end_time": "2024-03-05T10:37:19.999379100Z",
     "start_time": "2024-03-05T10:37:19.815338100Z"
    }
   },
   "id": "dee35acdc63c07f4",
   "execution_count": 21
  },
  {
   "cell_type": "code",
   "outputs": [
    {
     "data": {
      "text/plain": "1"
     },
     "execution_count": 22,
     "metadata": {},
     "output_type": "execute_result"
    }
   ],
   "source": [
    "bt.count_trees"
   ],
   "metadata": {
    "collapsed": false,
    "ExecuteTime": {
     "end_time": "2024-03-05T10:37:22.501378Z",
     "start_time": "2024-03-05T10:37:22.483363100Z"
    }
   },
   "id": "2aa2256ba762e2de",
   "execution_count": 22
  },
  {
   "cell_type": "code",
   "outputs": [
    {
     "data": {
      "text/plain": "2"
     },
     "execution_count": 23,
     "metadata": {},
     "output_type": "execute_result"
    }
   ],
   "source": [
    "bt2 = BT()\n",
    "bt2.count_trees"
   ],
   "metadata": {
    "collapsed": false,
    "ExecuteTime": {
     "end_time": "2024-03-05T10:37:25.945217500Z",
     "start_time": "2024-03-05T10:37:25.921202900Z"
    }
   },
   "id": "b0b0727c81780660",
   "execution_count": 23
  },
  {
   "cell_type": "code",
   "outputs": [
    {
     "data": {
      "text/plain": "2"
     },
     "execution_count": 24,
     "metadata": {},
     "output_type": "execute_result"
    }
   ],
   "source": [
    "bt.count_trees"
   ],
   "metadata": {
    "collapsed": false,
    "ExecuteTime": {
     "end_time": "2024-03-05T10:37:26.999094Z",
     "start_time": "2024-03-05T10:37:26.969021900Z"
    }
   },
   "id": "29245cbf5739e6e9",
   "execution_count": 24
  },
  {
   "cell_type": "code",
   "outputs": [
    {
     "data": {
      "text/plain": "1"
     },
     "execution_count": 25,
     "metadata": {},
     "output_type": "execute_result"
    }
   ],
   "source": [
    "del bt2\n",
    "bt.count_trees"
   ],
   "metadata": {
    "collapsed": false,
    "ExecuteTime": {
     "end_time": "2024-03-05T10:37:27.684178Z",
     "start_time": "2024-03-05T10:37:27.672175600Z"
    }
   },
   "id": "7414eb07d2ba5b3f",
   "execution_count": 25
  },
  {
   "cell_type": "code",
   "outputs": [
    {
     "data": {
      "text/plain": "1"
     },
     "execution_count": 26,
     "metadata": {},
     "output_type": "execute_result"
    }
   ],
   "source": [
    "BT.count_trees"
   ],
   "metadata": {
    "collapsed": false,
    "ExecuteTime": {
     "end_time": "2024-03-05T10:37:29.255624Z",
     "start_time": "2024-03-05T10:37:29.235608700Z"
    }
   },
   "id": "6fd812c0f8501b36",
   "execution_count": 26
  },
  {
   "cell_type": "code",
   "outputs": [],
   "source": [],
   "metadata": {
    "collapsed": false
   },
   "id": "af44cecc7c0b79a8",
   "execution_count": null
  },
  {
   "cell_type": "code",
   "outputs": [],
   "source": [],
   "metadata": {
    "collapsed": false
   },
   "id": "5bb67da9cac49a74",
   "execution_count": null
  },
  {
   "cell_type": "code",
   "outputs": [],
   "source": [],
   "metadata": {
    "collapsed": false
   },
   "id": "464f9ca8114046a3",
   "execution_count": null
  },
  {
   "cell_type": "code",
   "execution_count": null,
   "outputs": [],
   "source": [],
   "metadata": {
    "collapsed": false
   },
   "id": "2ca7bdbb99ea4a46"
  }
 ],
 "metadata": {
  "kernelspec": {
   "display_name": "Python 3",
   "language": "python",
   "name": "python3"
  },
  "language_info": {
   "codemirror_mode": {
    "name": "ipython",
    "version": 2
   },
   "file_extension": ".py",
   "mimetype": "text/x-python",
   "name": "python",
   "nbconvert_exporter": "python",
   "pygments_lexer": "ipython2",
   "version": "2.7.6"
  }
 },
 "nbformat": 4,
 "nbformat_minor": 5
}
